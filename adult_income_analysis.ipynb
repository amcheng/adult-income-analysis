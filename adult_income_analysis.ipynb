{
 "cells": [
  {
   "cell_type": "code",
   "execution_count": 1,
   "metadata": {},
   "outputs": [],
   "source": [
    "import numpy as np\n",
    "import mltools as ml\n",
    "import pandas as pd\n",
    "import matplotlib.pyplot as plt\n",
    "import warnings\n",
    "from sklearn.preprocessing import LabelEncoder, OneHotEncoder\n",
    "warnings.filterwarnings('ignore')\n",
    "\n",
    "adult = pd.read_csv(\"data/adult_training.csv\",\n",
    "                      delimiter=\",\",\n",
    "                      skipinitialspace=True,\n",
    "                        #nrows=10000,\n",
    "                      dtype=None)\n",
    "\n",
    "from sklearn.model_selection import train_test_split\n",
    "from __future__ import division\n",
    "from sklearn.linear_model import LogisticRegression\n",
    "from sklearn.metrics import confusion_matrix\n"
   ]
  },
  {
   "cell_type": "code",
   "execution_count": 2,
   "metadata": {},
   "outputs": [],
   "source": [
    "def adult_preprocess(adult):\n",
    "    \"\"\"Takes in an adult income pandas dataframe, removes '?', \n",
    "    expands categorical data returns X and Y arrays\"\"\"\n",
    "    \n",
    "    # remove rows with '?'s\n",
    "    adult = adult[(adult != '?').all(1)]\n",
    "    \n",
    "    # convert categorical data into one-hot\n",
    "    adult_one_hot = pd.get_dummies(adult)\n",
    "\n",
    "    # split into inputs and targets\n",
    "    X = adult_one_hot.iloc[:,0:-2].values\n",
    "    Y = adult_one_hot.loc[:,'income_>50K'].values\n",
    "    \n",
    "    return X, Y"
   ]
  },
  {
   "cell_type": "code",
   "execution_count": 3,
   "metadata": {},
   "outputs": [],
   "source": [
    "X, Y = adult_preprocess(adult)\n",
    "X_train, X_test, Y_train, Y_test = train_test_split(X, Y, test_size = 0.2, random_state = 0)"
   ]
  },
  {
   "cell_type": "code",
   "execution_count": 4,
   "metadata": {},
   "outputs": [
    {
     "name": "stdout",
     "output_type": "stream",
     "text": [
      "7508\n",
      "22654\n"
     ]
    }
   ],
   "source": [
    "# print(list(adult_one_hot))\n",
    "# print(list(X))\n",
    "print(len(Y[Y==1]))\n",
    "print(len(Y[Y==0]))"
   ]
  },
  {
   "cell_type": "code",
   "execution_count": 5,
   "metadata": {},
   "outputs": [
    {
     "data": {
      "text/plain": [
       "LogisticRegression(C=1.0, class_weight=None, dual=False, fit_intercept=True,\n",
       "          intercept_scaling=1, max_iter=100, multi_class='warn',\n",
       "          n_jobs=None, penalty='l2', random_state=0, solver='warn',\n",
       "          tol=0.0001, verbose=0, warm_start=False)"
      ]
     },
     "execution_count": 5,
     "metadata": {},
     "output_type": "execute_result"
    }
   ],
   "source": [
    "classifier = LogisticRegression(random_state=0)\n",
    "classifier.fit(X_train,Y_train)"
   ]
  },
  {
   "cell_type": "code",
   "execution_count": 6,
   "metadata": {},
   "outputs": [],
   "source": [
    "Y_pred = classifier.predict(X_test)"
   ]
  },
  {
   "cell_type": "code",
   "execution_count": 7,
   "metadata": {},
   "outputs": [
    {
     "data": {
      "text/plain": [
       "array([0, 0, 0, ..., 0, 1, 0], dtype=uint8)"
      ]
     },
     "execution_count": 7,
     "metadata": {},
     "output_type": "execute_result"
    }
   ],
   "source": [
    "Y_test"
   ]
  },
  {
   "cell_type": "code",
   "execution_count": 8,
   "metadata": {},
   "outputs": [],
   "source": [
    "def print_metrics(Y_true, Y_pred):\n",
    "    \"\"\"Prints metrics comparing true and predicted classifications\"\"\"\n",
    "    \n",
    "    cm_test = confusion_matrix(y_true=Y_true, y_pred=Y_pred)\n",
    "\n",
    "    total = cm_test.sum()\n",
    "\n",
    "    correct = 0\n",
    "    for i in range(len(cm_test)):\n",
    "        correct += cm_test[i,i]\n",
    "    \n",
    "    acc = correct/total\n",
    "    \n",
    "    print(\"Confusion Matrix:\\n\")\n",
    "    print(\"      predicted class:\")\n",
    "    print(\"          0\\t1\")\n",
    "    print(\"        _____________\")\n",
    "    print(\"true  0| {}\\t{}\".format(cm_test[0,0], cm_test[0,1]))\n",
    "    print(\"class 1| {}\\t{}\".format(cm_test[1,0], cm_test[1,1]))\n",
    "    print(\"\")\n",
    "    print(\"Correct: \\t{}\".format(correct))\n",
    "    print(\"Misclassified: \\t{}\".format(total-correct))\n",
    "    print(\"Accuracy: \\t{:.2f}%\".format(acc*100))\n",
    "    print(\"Error rate: \\t{:.2f}%\".format((1-acc)*100))"
   ]
  },
  {
   "cell_type": "code",
   "execution_count": 9,
   "metadata": {},
   "outputs": [
    {
     "name": "stdout",
     "output_type": "stream",
     "text": [
      "Confusion Matrix:\n",
      "\n",
      "      predicted class:\n",
      "          0\t1\n",
      "        _____________\n",
      "true  0| 4371\t161\n",
      "class 1| 1114\t387\n",
      "\n",
      "Correct: \t4758\n",
      "Misclassified: \t1275\n",
      "Accuracy: \t78.87%\n",
      "Error rate: \t21.13%\n"
     ]
    }
   ],
   "source": [
    "print_metrics(Y_test, Y_pred)"
   ]
  },
  {
   "cell_type": "code",
   "execution_count": null,
   "metadata": {},
   "outputs": [],
   "source": []
  },
  {
   "cell_type": "code",
   "execution_count": null,
   "metadata": {},
   "outputs": [],
   "source": []
  }
 ],
 "metadata": {
  "kernelspec": {
   "display_name": "Python 2",
   "language": "python",
   "name": "python2"
  },
  "language_info": {
   "codemirror_mode": {
    "name": "ipython",
    "version": 2
   },
   "file_extension": ".py",
   "mimetype": "text/x-python",
   "name": "python",
   "nbconvert_exporter": "python",
   "pygments_lexer": "ipython2",
   "version": "2.7.15"
  }
 },
 "nbformat": 4,
 "nbformat_minor": 2
}
