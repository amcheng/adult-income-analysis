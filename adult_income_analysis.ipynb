{
 "cells": [
  {
   "cell_type": "code",
   "execution_count": 1,
   "metadata": {},
   "outputs": [],
   "source": [
    "import numpy as np\n",
    "import pandas as pd\n",
    "import matplotlib.pyplot as plt\n",
    "import warnings\n",
    "from sklearn.preprocessing import LabelEncoder, OneHotEncoder\n",
    "warnings.filterwarnings('ignore')\n",
    "\n",
    "column_names = ['age', 'workclass', 'fnlwgt', 'education', 'educational-num',\n",
    "                'marital-status', 'occupation', 'relationship', 'race', 'gender',\n",
    "                'capital-gain', 'capital-loss', 'hours-per-week', 'native-country','income']\n",
    "\n",
    "\n",
    "adult_df = pd.read_csv(\"data/adult_training.csv\",\n",
    "                      delimiter=\",\",\n",
    "                      skipinitialspace=True,\n",
    "                      names = column_names,\n",
    "                      dtype=None)\n",
    "\n",
    "adult_test_df = pd.read_csv(\"data/adult_training.csv\",\n",
    "                      delimiter=\",\",\n",
    "                      skipinitialspace=True,\n",
    "                      names = column_names,\n",
    "                      dtype=None)\n",
    "\n",
    "from sklearn.model_selection import train_test_split\n",
    "from __future__ import division\n",
    "from sklearn.linear_model import LogisticRegression\n",
    "from sklearn.metrics import confusion_matrix\n"
   ]
  },
  {
   "cell_type": "code",
   "execution_count": 2,
   "metadata": {},
   "outputs": [
    {
     "name": "stdout",
     "output_type": "stream",
     "text": [
      "1836 records have '?' as 'workclass'\n",
      "1843 records have '?' as 'occupation'\n",
      "583 records have '?' as 'native-country'\n"
     ]
    }
   ],
   "source": [
    "for column, n in zip(adult_df.columns,(adult_df.values.astype(str) == '?').sum(axis = 0)):\n",
    "    if n > 0:\n",
    "        print(\"{} records have \\'?\\' as \\'{}\\'\".format(n, column))"
   ]
  },
  {
   "cell_type": "code",
   "execution_count": 3,
   "metadata": {},
   "outputs": [],
   "source": [
    "def oneHotCatVars(df, df_cols):\n",
    "    \n",
    "    df_1 = adult_data = df.drop(columns = df_cols, axis = 1)\n",
    "    \n",
    "    print(df_cols)\n",
    "    df_2 = pd.get_dummies(df[df_cols])\n",
    "    \n",
    "    print(df_1, df_2)\n",
    "    \n",
    "    return (pd.concat([df_1, df_2], axis=1, join='inner'))"
   ]
  },
  {
   "cell_type": "code",
   "execution_count": 4,
   "metadata": {},
   "outputs": [],
   "source": [
    "def adult_preprocess(df, balanced=False, impute=False):\n",
    "    \"\"\"adult_preprocess(df, balanced=False, impute=False)\n",
    "            balanced: will sample an even amount of data from each\n",
    "    \n",
    "            impute:\n",
    "                Imputes missing data using random forest,\n",
    "                or removes rows with missing data\n",
    "                \n",
    "        expands categorical data returns X and Y arrays\"\"\"\n",
    "    #drop columns\n",
    "    drop_columns = [\"fnlwgt\"]\n",
    "    df = df.drop(drop_columns , axis=1)\n",
    "    \n",
    "    from sklearn.ensemble import RandomForestClassifier\n",
    "    from sklearn import tree\n",
    "    \n",
    "    \n",
    "    if impute:\n",
    "        impute_df = df.copy()\n",
    "        impute_df.drop(columns = ['income'], inplace=True)\n",
    "        \n",
    "        impute_labels = impute_df.workclass\n",
    "        impute_df.drop(columns = ['workclass'], inplace=True)\n",
    "        \n",
    "        impute_df = pd.get_dummies(impute_df)\n",
    "        \n",
    "        test_data = impute_df[(df.workclass.values == '?')].copy()\n",
    "        \n",
    "        train_data = impute_df[(df.workclass.values != '?')].copy()\n",
    "        train_label = impute_labels[(df.workclass.values != '?')]\n",
    "     \n",
    "        random_forest = RandomForestClassifier(n_estimators=10)\n",
    "        random_forest = random_forest.fit(train_data, train_label)\n",
    "        random_forest_pred = random_forest.predict(test_data)    \n",
    "        df.loc[(df.workclass.values == '?'),'workclass'] = random_forest_pred\n",
    "        \n",
    "        #repeat for occupation\n",
    "        \n",
    "        impute_df = df.copy()\n",
    "        impute_df.drop(columns = ['income'], inplace=True)\n",
    "        \n",
    "        impute_labels = impute_df.occupation\n",
    "        impute_df.drop(columns = ['occupation'], inplace=True)\n",
    "        \n",
    "        impute_df = pd.get_dummies(impute_df)\n",
    "        \n",
    "        test_data = impute_df[(df.occupation.values == '?')].copy()\n",
    "        \n",
    "        train_data = impute_df[(df.occupation.values != '?')].copy()\n",
    "        train_label = impute_labels[(df.occupation.values != '?')]\n",
    "     \n",
    "        random_forest = RandomForestClassifier(n_estimators=10)\n",
    "        random_forest = random_forest.fit(train_data, train_label)\n",
    "        random_forest_pred = random_forest.predict(test_data)    \n",
    "        df.loc[(df.occupation.values == '?'),'occupation'] = random_forest_pred\n",
    "        \n",
    "        # repeat for native-country\n",
    "        \n",
    "        impute_df = df.copy()\n",
    "        impute_df.drop(columns = ['income'], inplace=True)\n",
    "        \n",
    "        impute_labels = impute_df['native-country']\n",
    "        impute_df.drop(columns = ['native-country'], inplace=True)\n",
    "        \n",
    "        impute_df = pd.get_dummies(impute_df)\n",
    "        \n",
    "        test_data = impute_df[(df['native-country'].values == '?')].copy()\n",
    "        \n",
    "        train_data = impute_df[(df['native-country'].values != '?')].copy()\n",
    "        train_label = impute_labels[(df['native-country'].values != '?')]\n",
    "     \n",
    "        random_forest = tree.DecisionTreeClassifier()\n",
    "        random_forest = random_forest.fit(train_data, train_label)\n",
    "        random_forest_pred = random_forest.predict(test_data)    \n",
    "        df.loc[(df['native-country'].values == '?'),'native-country'] = random_forest_pred    \n",
    "    else:\n",
    "        # remove rows with '?'s\n",
    "        df = df[(df != '?').all(1)]\n",
    "    \n",
    "    # convert categorical data into one-hot\n",
    "    df_one_hot = pd.get_dummies(df)\n",
    "    \n",
    "    # sample equal number of plus and minus\n",
    "    if balanced:\n",
    "        # find number of income > $50k\n",
    "        sample_number = len(df_one_hot[df_one_hot['income_>50K'] == 1])\n",
    "        df_over_50k = df_one_hot[df_one_hot['income_>50K'] == 1].sample(n=sample_number, random_state=0)\n",
    "        df_under_50k = df_one_hot[df_one_hot['income_>50K'] == 0].sample(n=sample_number, random_state=0)\n",
    "        frames = [df_over_50k, df_under_50k]\n",
    "        df_clean = pd.concat(frames)\n",
    "    else:\n",
    "        df_clean = df_one_hot\n",
    "    \n",
    "    #randomize data order\n",
    "    df_clean = df_clean.sample(frac=1)\n",
    "    \n",
    "    # split into inputs and targets\n",
    "    X = df_clean.iloc[:,0:-2].values\n",
    "    Y = df_clean.loc[:,'income_>50K'].values\n",
    "    \n",
    "    return X, Y"
   ]
  },
  {
   "cell_type": "code",
   "execution_count": 5,
   "metadata": {},
   "outputs": [],
   "source": [
    "X, Y = adult_preprocess(adult_df, balanced=False, impute=True)\n",
    "X_train, X_val, Y_train, Y_val = train_test_split(X, Y, test_size = 0.2, random_state = 0)\n",
    "\n",
    "X_test, Y_test = adult_preprocess(adult_test_df, balanced=False, impute=True)"
   ]
  },
  {
   "cell_type": "code",
   "execution_count": 6,
   "metadata": {},
   "outputs": [
    {
     "name": "stdout",
     "output_type": "stream",
     "text": [
      "7841\n",
      "24720\n"
     ]
    }
   ],
   "source": [
    "# print(list(adult_one_hot))\n",
    "# print(list(X))\n",
    "print(len(Y[Y==1]))\n",
    "print(len(Y[Y==0]))"
   ]
  },
  {
   "cell_type": "code",
   "execution_count": 7,
   "metadata": {},
   "outputs": [
    {
     "data": {
      "text/plain": [
       "LogisticRegression(C=1.0, class_weight=None, dual=False, fit_intercept=True,\n",
       "          intercept_scaling=1, max_iter=100, multi_class='warn',\n",
       "          n_jobs=None, penalty='l2', random_state=0, solver='warn',\n",
       "          tol=0.0001, verbose=0, warm_start=False)"
      ]
     },
     "execution_count": 7,
     "metadata": {},
     "output_type": "execute_result"
    }
   ],
   "source": [
    "classifier = LogisticRegression(random_state=0)\n",
    "classifier.fit(X_train,Y_train)"
   ]
  },
  {
   "cell_type": "code",
   "execution_count": 8,
   "metadata": {},
   "outputs": [],
   "source": [
    "p_thres = 0.3\n",
    "\n",
    "Y_pred = classifier.predict(X_val)\n",
    "Y_test_pred = classifier.predict(X_test)\n",
    "Y_test_pred = classifier.predict_proba(X_test)\n",
    "Y_test_pred = Y_test_pred[:,1]\n",
    "\n",
    "Y_test_pred[Y_test_pred >= p_thres] = 1 \n",
    "Y_test_pred[Y_test_pred < p_thres ] = 0"
   ]
  },
  {
   "cell_type": "code",
   "execution_count": 9,
   "metadata": {},
   "outputs": [],
   "source": [
    "def print_metrics(Y_true, Y_pred):\n",
    "    \"\"\"Prints metrics comparing true and predicted classifications\"\"\"\n",
    "    \n",
    "    cm_test = confusion_matrix(y_true=Y_true, y_pred=Y_pred)\n",
    "\n",
    "    total = cm_test.sum()\n",
    "\n",
    "    correct = 0\n",
    "    for i in range(len(cm_test)):\n",
    "        correct += cm_test[i,i]\n",
    "    \n",
    "    acc = correct/total\n",
    "    \n",
    "    print(\"Confusion Matrix:\\n\")\n",
    "    print(\"      predicted class:\")\n",
    "    print(\"          0\\t1\")\n",
    "    print(\"        _____________\")\n",
    "    print(\"true  0| {}\\t{}\".format(cm_test[0,0], cm_test[0,1]))\n",
    "    print(\"class 1| {}\\t{}\".format(cm_test[1,0], cm_test[1,1]))\n",
    "    print(\"\")\n",
    "    print(\"Correct: \\t{}\".format(correct))\n",
    "    print(\"Misclassified: \\t{}\".format(total-correct))\n",
    "    print(\"Accuracy: \\t{:.2f}%\".format(acc*100))\n",
    "    print(\"Error rate: \\t{:.2f}%\".format((1-acc)*100))\n",
    "    print(\"Sensitivity: \\t{:.2f}% (true positive)\".format(cm_test[1,1]*100 / cm_test[1].sum()))\n",
    "    print(\"Specificity: \\t{:.2f}% (true negative)\".format(cm_test[0,0]*100 / cm_test[0].sum()))\n",
    "    print(\"Precision: \\t{:.2f}% (positive predict value)\".format(100*cm_test[1,1] / cm_test[:,1].sum()))\n",
    "    print(\"False Pos: \\t{:.2f}%\".format(100*cm_test[0,1] / cm_test[0].sum()))"
   ]
  },
  {
   "cell_type": "code",
   "execution_count": 10,
   "metadata": {},
   "outputs": [
    {
     "name": "stdout",
     "output_type": "stream",
     "text": [
      "Confusion Matrix:\n",
      "\n",
      "      predicted class:\n",
      "          0\t1\n",
      "        _____________\n",
      "true  0| 20834\t3886\n",
      "class 1| 1669\t6172\n",
      "\n",
      "Correct: \t27006\n",
      "Misclassified: \t5555\n",
      "Accuracy: \t82.94%\n",
      "Error rate: \t17.06%\n",
      "Sensitivity: \t78.71% (true positive)\n",
      "Specificity: \t84.28% (true negative)\n",
      "Precision: \t61.36% (positive predict value)\n",
      "False Pos: \t15.72%\n"
     ]
    }
   ],
   "source": [
    "print_metrics(Y_test, Y_test_pred)"
   ]
  },
  {
   "cell_type": "code",
   "execution_count": null,
   "metadata": {},
   "outputs": [],
   "source": []
  },
  {
   "cell_type": "code",
   "execution_count": null,
   "metadata": {},
   "outputs": [],
   "source": []
  },
  {
   "cell_type": "code",
   "execution_count": null,
   "metadata": {},
   "outputs": [],
   "source": []
  },
  {
   "cell_type": "code",
   "execution_count": null,
   "metadata": {},
   "outputs": [],
   "source": []
  },
  {
   "cell_type": "code",
   "execution_count": null,
   "metadata": {},
   "outputs": [],
   "source": []
  }
 ],
 "metadata": {
  "kernelspec": {
   "display_name": "Python 2",
   "language": "python",
   "name": "python2"
  },
  "language_info": {
   "codemirror_mode": {
    "name": "ipython",
    "version": 2
   },
   "file_extension": ".py",
   "mimetype": "text/x-python",
   "name": "python",
   "nbconvert_exporter": "python",
   "pygments_lexer": "ipython2",
   "version": "2.7.15"
  }
 },
 "nbformat": 4,
 "nbformat_minor": 2
}
