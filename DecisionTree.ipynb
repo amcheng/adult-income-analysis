{
 "cells": [
  {
   "cell_type": "code",
   "execution_count": 4,
   "metadata": {},
   "outputs": [],
   "source": [
    "import numpy as np\n",
    "import pandas as pd\n",
    "import matplotlib.pyplot as plt\n",
    "import warnings\n",
    "from sklearn.preprocessing import LabelEncoder, OneHotEncoder\n",
    "warnings.filterwarnings('ignore')\n",
    "\n",
    "column_names = ['age', 'workclass', 'fnlwgt', 'education', 'educational-num',\n",
    "                'marital-status', 'occupation', 'relationship', 'race', 'gender',\n",
    "                'capital-gain', 'capital-loss', 'hours-per-week', 'native-country','income']\n",
    "\n",
    "\n",
    "adult_df = pd.read_csv(\"data/adult_training.csv\",\n",
    "                      delimiter=\",\",\n",
    "                      skipinitialspace=True,\n",
    "                      names = column_names,\n",
    "                      dtype=None)\n",
    "\n",
    "adult_test_df = pd.read_csv(\"data/adult_training.csv\",\n",
    "                      delimiter=\",\",\n",
    "                      skipinitialspace=True,\n",
    "                      names = column_names,\n",
    "                      dtype=None)\n",
    "\n",
    "from sklearn.model_selection import train_test_split\n",
    "from __future__ import division\n",
    "from sklearn.linear_model import LogisticRegression\n",
    "from sklearn.metrics import confusion_matrix\n",
    "\n",
    "\n",
    "\n",
    "from sklearn.model_selection import train_test_split\n",
    "from __future__ import division\n",
    "from sklearn.linear_model import LogisticRegression\n",
    "from sklearn.metrics import confusion_matrix\n",
    "from sklearn.svm import SVC\n",
    "from sklearn.utils import resample\n",
    "from sklearn.ensemble import BaggingClassifier\n",
    "\n",
    "from joblib import dump, load\n",
    "from sklearn.model_selection import cross_val_score\n",
    "import sys\n",
    "# from keras.models import Sequential\n",
    "# from keras.layers import Dense\n",
    "# from keras.layers import Dropout\n",
    "# from keras.wrappers.scikit_learn import KerasClassifier\n",
    "from sklearn.model_selection import cross_val_score\n",
    "from sklearn.preprocessing import LabelEncoder\n",
    "from sklearn.model_selection import StratifiedKFold\n",
    "from sklearn.preprocessing import StandardScaler\n",
    "from sklearn.pipeline import Pipeline\n",
    "\n",
    "from sklearn.tree import DecisionTreeClassifier\n",
    "from sklearn.ensemble import RandomForestClassifier"
   ]
  },
  {
   "cell_type": "code",
   "execution_count": 5,
   "metadata": {},
   "outputs": [],
   "source": [
    "def adult_preprocess(df, balanced=False, impute=False):\n",
    "    \"\"\"adult_preprocess(df, balanced=False, impute=False)\n",
    "            balanced: will sample an even amount of data from each\n",
    "    \n",
    "            impute:\n",
    "                Imputes missing data using random forest,\n",
    "                or removes rows with missing data\n",
    "                \n",
    "        expands categorical data returns X and Y arrays\"\"\"\n",
    "    #drop columns\n",
    "    drop_columns = [\"fnlwgt\"]\n",
    "    df = df.drop(drop_columns , axis=1)\n",
    "    \n",
    "    from sklearn.ensemble import RandomForestClassifier\n",
    "    from sklearn import tree\n",
    "    \n",
    "    \n",
    "    if impute:\n",
    "        impute_df = df.copy()\n",
    "        impute_df.drop(columns = ['income'], inplace=True)\n",
    "        \n",
    "        impute_labels = impute_df.workclass\n",
    "        impute_df.drop(columns = ['workclass'], inplace=True)\n",
    "        \n",
    "        impute_df = pd.get_dummies(impute_df)\n",
    "        \n",
    "        test_data = impute_df[(df.workclass.values == '?')].copy()\n",
    "        \n",
    "        train_data = impute_df[(df.workclass.values != '?')].copy()\n",
    "        train_label = impute_labels[(df.workclass.values != '?')]\n",
    "     \n",
    "        random_forest = RandomForestClassifier(n_estimators=10)\n",
    "        random_forest = random_forest.fit(train_data, train_label)\n",
    "        random_forest_pred = random_forest.predict(test_data)    \n",
    "        df.loc[(df.workclass.values == '?'),'workclass'] = random_forest_pred\n",
    "        \n",
    "        #repeat for occupation\n",
    "        \n",
    "        impute_df = df.copy()\n",
    "        impute_df.drop(columns = ['income'], inplace=True)\n",
    "        \n",
    "        impute_labels = impute_df.occupation\n",
    "        impute_df.drop(columns = ['occupation'], inplace=True)\n",
    "        \n",
    "        impute_df = pd.get_dummies(impute_df)\n",
    "        \n",
    "        test_data = impute_df[(df.occupation.values == '?')].copy()\n",
    "        \n",
    "        train_data = impute_df[(df.occupation.values != '?')].copy()\n",
    "        train_label = impute_labels[(df.occupation.values != '?')]\n",
    "     \n",
    "        random_forest = RandomForestClassifier(n_estimators=10)\n",
    "        random_forest = random_forest.fit(train_data, train_label)\n",
    "        random_forest_pred = random_forest.predict(test_data)    \n",
    "        df.loc[(df.occupation.values == '?'),'occupation'] = random_forest_pred\n",
    "        \n",
    "        # repeat for native-country\n",
    "        \n",
    "        impute_df = df.copy()\n",
    "        impute_df.drop(columns = ['income'], inplace=True)\n",
    "        \n",
    "        impute_labels = impute_df['native-country']\n",
    "        impute_df.drop(columns = ['native-country'], inplace=True)\n",
    "        \n",
    "        impute_df = pd.get_dummies(impute_df)\n",
    "        \n",
    "        test_data = impute_df[(df['native-country'].values == '?')].copy()\n",
    "        \n",
    "        train_data = impute_df[(df['native-country'].values != '?')].copy()\n",
    "        train_label = impute_labels[(df['native-country'].values != '?')]\n",
    "     \n",
    "        random_forest = tree.DecisionTreeClassifier()\n",
    "        random_forest = random_forest.fit(train_data, train_label)\n",
    "        random_forest_pred = random_forest.predict(test_data)    \n",
    "        df.loc[(df['native-country'].values == '?'),'native-country'] = random_forest_pred    \n",
    "    else:\n",
    "        # remove rows with '?'s\n",
    "        df = df[(df != '?').all(1)]\n",
    "    \n",
    "    # convert categorical data into one-hot\n",
    "    df_one_hot = pd.get_dummies(df)\n",
    "    \n",
    "    # sample equal number of plus and minus\n",
    "    if balanced:\n",
    "        # find number of income > $50k\n",
    "        sample_number = len(df_one_hot[df_one_hot['income_>50K'] == 1])\n",
    "        df_over_50k = df_one_hot[df_one_hot['income_>50K'] == 1].sample(n=sample_number, random_state=0)\n",
    "        df_under_50k = df_one_hot[df_one_hot['income_>50K'] == 0].sample(n=sample_number, random_state=0)\n",
    "        frames = [df_over_50k, df_under_50k]\n",
    "        df_clean = pd.concat(frames)\n",
    "    else:\n",
    "        df_clean = df_one_hot\n",
    "    \n",
    "    #randomize data order\n",
    "    df_clean = df_clean.sample(frac=1)\n",
    "    \n",
    "    # split into inputs and targets\n",
    "    X = df_clean.iloc[:,0:-2].values\n",
    "    Y = df_clean.loc[:,'income_>50K'].values\n",
    "    \n",
    "    return X, Y"
   ]
  },
  {
   "cell_type": "code",
   "execution_count": 50,
   "metadata": {},
   "outputs": [],
   "source": [
    "def model_eval(actual, pred):\n",
    "    \n",
    "    confusion = pd.crosstab(actual, pred, rownames=['Actual'], colnames=['Predicted'])\n",
    "    TP = confusion.loc['>50K','>50K']\n",
    "    TN = confusion.loc['<=50K','<=50K']\n",
    "    FP = confusion.loc['<=50K','>50K']\n",
    "    FN = confusion.loc['>50K','<=50K']\n",
    "\n",
    "    accuracy = ((TP+TN))/(TP+FN+FP+TN)\n",
    "    precision = (TP)/(TP+FP)\n",
    "    recall = (TP)/(TP+FN)\n",
    "    f_measure = (2*recall*precision)/(recall+precision)\n",
    "    sensitivity = TP / (TP + FN)\n",
    "    specificity = TN / (TN + FP)\n",
    "    error_rate = 1 - accuracy\n",
    "    \n",
    "    out = {}\n",
    "    out['accuracy'] =  accuracy\n",
    "    out['precision'] = precision\n",
    "    out['recall'] = recall\n",
    "    out['f_measure'] = f_measure\n",
    "    out['sensitivity'] = sensitivity\n",
    "    out['specificity'] = specificity\n",
    "    out['error_rate'] = error_rate\n",
    "    \n",
    "    return out"
   ]
  },
  {
   "cell_type": "code",
   "execution_count": 7,
   "metadata": {},
   "outputs": [],
   "source": [
    "X, Y = adult_preprocess(adult_df, balanced=False, impute=True)\n",
    "scaler = StandardScaler()  # Default behavior is to scale to [0,1]\n",
    "X = scaler.fit_transform(X)\n",
    "X_train, X_test, Y_train, Y_test = train_test_split(X, Y)\n",
    "\n",
    "X_train, X_val, Y_train, Y_val = train_test_split(X, Y, test_size = 0.2, random_state = 0)\n",
    "\n",
    "X_test, Y_test = adult_preprocess(adult_test_df, balanced=False, impute=True)\n",
    "X_test = scaler.fit_transform(X_test)\n"
   ]
  },
  {
   "cell_type": "markdown",
   "metadata": {},
   "source": [
    "## Decision tree"
   ]
  },
  {
   "cell_type": "code",
   "execution_count": 48,
   "metadata": {},
   "outputs": [
    {
     "name": "stdout",
     "output_type": "stream",
     "text": [
      "Max is at 0.01000: 0.86 \n"
     ]
    },
    {
     "data": {
      "image/png": "[encoded data removed]",
      "text/plain": [
       "<Figure size 432x288 with 1 Axes>"
      ]
     },
     "metadata": {
      "needs_background": "light"
     },
     "output_type": "display_data"
    }
   ],
   "source": [
    "min_samples_splits = np.linspace(0.01, 1.0, 100, endpoint=True)\n",
    "\n",
    "min_samples_leaf = 1\n",
    "acc = np.zeros(100)\n",
    "i = 0\n",
    "for split in min_samples_splits:\n",
    "        clf = DecisionTreeClassifier(criterion = 'gini', \n",
    "                              min_samples_split = split,\n",
    "                              min_samples_leaf = min_samples_leaf)\n",
    "        scores = cross_val_score(clf, X_train, Y_train, cv=5)\n",
    "#         print(\"Accuracy with a min_samples %0.5f: %0.2f (+/- %0.2f)\" % (split ,scores.mean(), scores.std() * 2))\n",
    "        acc[i] = scores.mean()\n",
    "        i += 1\n",
    "        sys.stdout.flush()\n",
    "        \n",
    "index = np.argmax(acc)\n",
    "\n",
    "print(\"Max is at %0.5f: %0.2f \" % (min_samples_splits[index], acc[index]))\n",
    "\n",
    "plt.plot(min_samples_splits,acc)\n",
    "plt.xlabel(\"Minimum fraction of data points needed to split\")\n",
    "plt.ylabel(\"Accuracy\")\n",
    "plt.title(\"5 Fold Cross Validation Accuracy Decision Tree Min Split\")\n",
    "plt.savefig(\"minSplit.png\")"
   ]
  },
  {
   "cell_type": "code",
   "execution_count": 47,
   "metadata": {},
   "outputs": [
    {
     "name": "stdout",
     "output_type": "stream",
     "text": [
      "Accuracy with a min_leafs 0.10000: 0.82 (+/- 0.00)\n",
      "Accuracy with a min_leafs 0.20000: 0.81 (+/- 0.01)\n",
      "Accuracy with a min_leafs 0.30000: 0.76 (+/- 0.00)\n",
      "Accuracy with a min_leafs 0.40000: 0.76 (+/- 0.00)\n",
      "Accuracy with a min_leafs 0.50000: 0.76 (+/- 0.00)\n",
      "Max is at 0.10000: 0.82 \n"
     ]
    },
    {
     "data": {
      "image/png": "[encoded data removed]",
      "text/plain": [
       "<Figure size 432x288 with 1 Axes>"
      ]
     },
     "metadata": {
      "needs_background": "light"
     },
     "output_type": "display_data"
    }
   ],
   "source": [
    "min_samples_leafs = np.linspace(0.1, 0.5, 5, endpoint=True)\n",
    "# min_samples_leaf = 1\n",
    "split = 0.1\n",
    "acc = np.zeros(5)\n",
    "i = 0\n",
    "for leafs in min_samples_leafs:\n",
    "        clf = DecisionTreeClassifier(criterion = 'gini', \n",
    "                              min_samples_split = split,\n",
    "                              min_samples_leaf = leafs)\n",
    "        scores = cross_val_score(clf, X_train, Y_train, cv=5)\n",
    "        print(\"Accuracy with a min_leafs %0.5f: %0.2f (+/- %0.2f)\" % (leafs ,scores.mean(), scores.std() * 2))\n",
    "        acc[i] = scores.mean()\n",
    "        i += 1\n",
    "        sys.stdout.flush()\n",
    "\n",
    "index = np.argmax(acc)\n",
    "\n",
    "print(\"Max is at %0.5f: %0.2f \" % (min_samples_leafs[index], acc[index]))\n",
    "plt.plot(min_samples_leafs,acc)\n",
    "plt.xlabel(\"Minimum fraction of samples needed to be at a leaf node.\")\n",
    "plt.ylabel(\"Accuracy\")\n",
    "plt.title(\"5 Fold Cross Validation Accuracy Decision Tree Min Leaf\")\n",
    "plt.savefig(\"minLeaf.png\")"
   ]
  },
  {
   "cell_type": "code",
   "execution_count": 52,
   "metadata": {},
   "outputs": [
    {
     "ename": "KeyError",
     "evalue": "u'the label [>50K] is not in the [index]'",
     "output_type": "error",
     "traceback": [
      "\u001b[0;31m---------------------------------------------------------------------------\u001b[0m",
      "\u001b[0;31mKeyError\u001b[0m                                  Traceback (most recent call last)",
      "\u001b[0;32m<ipython-input-52-22ffbbc9eeb0>\u001b[0m in \u001b[0;36m<module>\u001b[0;34m()\u001b[0m\n\u001b[1;32m     13\u001b[0m \u001b[0mg_test_predict\u001b[0m \u001b[0;34m=\u001b[0m \u001b[0mg_tree\u001b[0m\u001b[0;34m.\u001b[0m\u001b[0mpredict\u001b[0m\u001b[0;34m(\u001b[0m\u001b[0mX_test\u001b[0m\u001b[0;34m)\u001b[0m\u001b[0;34m\u001b[0m\u001b[0m\n\u001b[1;32m     14\u001b[0m \u001b[0;34m\u001b[0m\u001b[0m\n\u001b[0;32m---> 15\u001b[0;31m \u001b[0mDTree_Gini\u001b[0m \u001b[0;34m=\u001b[0m \u001b[0mmodel_eval\u001b[0m\u001b[0;34m(\u001b[0m\u001b[0mY_train\u001b[0m\u001b[0;34m,\u001b[0m\u001b[0mg_train_predict\u001b[0m\u001b[0;34m)\u001b[0m\u001b[0;34m\u001b[0m\u001b[0m\n\u001b[0m\u001b[1;32m     16\u001b[0m \u001b[0mDTree_Entropy\u001b[0m \u001b[0;34m=\u001b[0m \u001b[0mmodel_eval\u001b[0m\u001b[0;34m(\u001b[0m\u001b[0mY_train\u001b[0m\u001b[0;34m,\u001b[0m\u001b[0mg_test_predict\u001b[0m\u001b[0;34m)\u001b[0m\u001b[0;34m\u001b[0m\u001b[0m\n\u001b[1;32m     17\u001b[0m \u001b[0;34m\u001b[0m\u001b[0m\n",
      "\u001b[0;32m<ipython-input-50-ede811d7e24c>\u001b[0m in \u001b[0;36mmodel_eval\u001b[0;34m(actual, pred)\u001b[0m\n\u001b[1;32m      2\u001b[0m \u001b[0;34m\u001b[0m\u001b[0m\n\u001b[1;32m      3\u001b[0m     \u001b[0mconfusion\u001b[0m \u001b[0;34m=\u001b[0m \u001b[0mpd\u001b[0m\u001b[0;34m.\u001b[0m\u001b[0mcrosstab\u001b[0m\u001b[0;34m(\u001b[0m\u001b[0mactual\u001b[0m\u001b[0;34m,\u001b[0m \u001b[0mpred\u001b[0m\u001b[0;34m,\u001b[0m \u001b[0mrownames\u001b[0m\u001b[0;34m=\u001b[0m\u001b[0;34m[\u001b[0m\u001b[0;34m'Actual'\u001b[0m\u001b[0;34m]\u001b[0m\u001b[0;34m,\u001b[0m \u001b[0mcolnames\u001b[0m\u001b[0;34m=\u001b[0m\u001b[0;34m[\u001b[0m\u001b[0;34m'Predicted'\u001b[0m\u001b[0;34m]\u001b[0m\u001b[0;34m)\u001b[0m\u001b[0;34m\u001b[0m\u001b[0m\n\u001b[0;32m----> 4\u001b[0;31m     \u001b[0mTP\u001b[0m \u001b[0;34m=\u001b[0m \u001b[0mconfusion\u001b[0m\u001b[0;34m.\u001b[0m\u001b[0mloc\u001b[0m\u001b[0;34m[\u001b[0m\u001b[0;34m'>50K'\u001b[0m\u001b[0;34m,\u001b[0m\u001b[0;34m'>50K'\u001b[0m\u001b[0;34m]\u001b[0m\u001b[0;34m\u001b[0m\u001b[0m\n\u001b[0m\u001b[1;32m      5\u001b[0m     \u001b[0mTN\u001b[0m \u001b[0;34m=\u001b[0m \u001b[0mconfusion\u001b[0m\u001b[0;34m.\u001b[0m\u001b[0mloc\u001b[0m\u001b[0;34m[\u001b[0m\u001b[0;34m'<=50K'\u001b[0m\u001b[0;34m,\u001b[0m\u001b[0;34m'<=50K'\u001b[0m\u001b[0;34m]\u001b[0m\u001b[0;34m\u001b[0m\u001b[0m\n\u001b[1;32m      6\u001b[0m     \u001b[0mFP\u001b[0m \u001b[0;34m=\u001b[0m \u001b[0mconfusion\u001b[0m\u001b[0;34m.\u001b[0m\u001b[0mloc\u001b[0m\u001b[0;34m[\u001b[0m\u001b[0;34m'<=50K'\u001b[0m\u001b[0;34m,\u001b[0m\u001b[0;34m'>50K'\u001b[0m\u001b[0;34m]\u001b[0m\u001b[0;34m\u001b[0m\u001b[0m\n",
      "\u001b[0;32m/anaconda2/lib/python2.7/site-packages/pandas/core/indexing.pyc\u001b[0m in \u001b[0;36m__getitem__\u001b[0;34m(self, key)\u001b[0m\n\u001b[1;32m   1470\u001b[0m             \u001b[0;32mexcept\u001b[0m \u001b[0;34m(\u001b[0m\u001b[0mKeyError\u001b[0m\u001b[0;34m,\u001b[0m \u001b[0mIndexError\u001b[0m\u001b[0;34m)\u001b[0m\u001b[0;34m:\u001b[0m\u001b[0;34m\u001b[0m\u001b[0m\n\u001b[1;32m   1471\u001b[0m                 \u001b[0;32mpass\u001b[0m\u001b[0;34m\u001b[0m\u001b[0m\n\u001b[0;32m-> 1472\u001b[0;31m             \u001b[0;32mreturn\u001b[0m \u001b[0mself\u001b[0m\u001b[0;34m.\u001b[0m\u001b[0m_getitem_tuple\u001b[0m\u001b[0;34m(\u001b[0m\u001b[0mkey\u001b[0m\u001b[0;34m)\u001b[0m\u001b[0;34m\u001b[0m\u001b[0m\n\u001b[0m\u001b[1;32m   1473\u001b[0m         \u001b[0;32melse\u001b[0m\u001b[0;34m:\u001b[0m\u001b[0;34m\u001b[0m\u001b[0m\n\u001b[1;32m   1474\u001b[0m             \u001b[0;31m# we by definition only have the 0th axis\u001b[0m\u001b[0;34m\u001b[0m\u001b[0;34m\u001b[0m\u001b[0m\n",
      "\u001b[0;32m/anaconda2/lib/python2.7/site-packages/pandas/core/indexing.pyc\u001b[0m in \u001b[0;36m_getitem_tuple\u001b[0;34m(self, tup)\u001b[0m\n\u001b[1;32m    868\u001b[0m     \u001b[0;32mdef\u001b[0m \u001b[0m_getitem_tuple\u001b[0m\u001b[0;34m(\u001b[0m\u001b[0mself\u001b[0m\u001b[0;34m,\u001b[0m \u001b[0mtup\u001b[0m\u001b[0;34m)\u001b[0m\u001b[0;34m:\u001b[0m\u001b[0;34m\u001b[0m\u001b[0m\n\u001b[1;32m    869\u001b[0m         \u001b[0;32mtry\u001b[0m\u001b[0;34m:\u001b[0m\u001b[0;34m\u001b[0m\u001b[0m\n\u001b[0;32m--> 870\u001b[0;31m             \u001b[0;32mreturn\u001b[0m \u001b[0mself\u001b[0m\u001b[0;34m.\u001b[0m\u001b[0m_getitem_lowerdim\u001b[0m\u001b[0;34m(\u001b[0m\u001b[0mtup\u001b[0m\u001b[0;34m)\u001b[0m\u001b[0;34m\u001b[0m\u001b[0m\n\u001b[0m\u001b[1;32m    871\u001b[0m         \u001b[0;32mexcept\u001b[0m \u001b[0mIndexingError\u001b[0m\u001b[0;34m:\u001b[0m\u001b[0;34m\u001b[0m\u001b[0m\n\u001b[1;32m    872\u001b[0m             \u001b[0;32mpass\u001b[0m\u001b[0;34m\u001b[0m\u001b[0m\n",
      "\u001b[0;32m/anaconda2/lib/python2.7/site-packages/pandas/core/indexing.pyc\u001b[0m in \u001b[0;36m_getitem_lowerdim\u001b[0;34m(self, tup)\u001b[0m\n\u001b[1;32m    996\u001b[0m         \u001b[0;32mfor\u001b[0m \u001b[0mi\u001b[0m\u001b[0;34m,\u001b[0m \u001b[0mkey\u001b[0m \u001b[0;32min\u001b[0m \u001b[0menumerate\u001b[0m\u001b[0;34m(\u001b[0m\u001b[0mtup\u001b[0m\u001b[0;34m)\u001b[0m\u001b[0;34m:\u001b[0m\u001b[0;34m\u001b[0m\u001b[0m\n\u001b[1;32m    997\u001b[0m             \u001b[0;32mif\u001b[0m \u001b[0mis_label_like\u001b[0m\u001b[0;34m(\u001b[0m\u001b[0mkey\u001b[0m\u001b[0;34m)\u001b[0m \u001b[0;32mor\u001b[0m \u001b[0misinstance\u001b[0m\u001b[0;34m(\u001b[0m\u001b[0mkey\u001b[0m\u001b[0;34m,\u001b[0m \u001b[0mtuple\u001b[0m\u001b[0;34m)\u001b[0m\u001b[0;34m:\u001b[0m\u001b[0;34m\u001b[0m\u001b[0m\n\u001b[0;32m--> 998\u001b[0;31m                 \u001b[0msection\u001b[0m \u001b[0;34m=\u001b[0m \u001b[0mself\u001b[0m\u001b[0;34m.\u001b[0m\u001b[0m_getitem_axis\u001b[0m\u001b[0;34m(\u001b[0m\u001b[0mkey\u001b[0m\u001b[0;34m,\u001b[0m \u001b[0maxis\u001b[0m\u001b[0;34m=\u001b[0m\u001b[0mi\u001b[0m\u001b[0;34m)\u001b[0m\u001b[0;34m\u001b[0m\u001b[0m\n\u001b[0m\u001b[1;32m    999\u001b[0m \u001b[0;34m\u001b[0m\u001b[0m\n\u001b[1;32m   1000\u001b[0m                 \u001b[0;31m# we have yielded a scalar ?\u001b[0m\u001b[0;34m\u001b[0m\u001b[0;34m\u001b[0m\u001b[0m\n",
      "\u001b[0;32m/anaconda2/lib/python2.7/site-packages/pandas/core/indexing.pyc\u001b[0m in \u001b[0;36m_getitem_axis\u001b[0;34m(self, key, axis)\u001b[0m\n\u001b[1;32m   1909\u001b[0m \u001b[0;34m\u001b[0m\u001b[0m\n\u001b[1;32m   1910\u001b[0m         \u001b[0;31m# fall thru to straight lookup\u001b[0m\u001b[0;34m\u001b[0m\u001b[0;34m\u001b[0m\u001b[0m\n\u001b[0;32m-> 1911\u001b[0;31m         \u001b[0mself\u001b[0m\u001b[0;34m.\u001b[0m\u001b[0m_validate_key\u001b[0m\u001b[0;34m(\u001b[0m\u001b[0mkey\u001b[0m\u001b[0;34m,\u001b[0m \u001b[0maxis\u001b[0m\u001b[0;34m)\u001b[0m\u001b[0;34m\u001b[0m\u001b[0m\n\u001b[0m\u001b[1;32m   1912\u001b[0m         \u001b[0;32mreturn\u001b[0m \u001b[0mself\u001b[0m\u001b[0;34m.\u001b[0m\u001b[0m_get_label\u001b[0m\u001b[0;34m(\u001b[0m\u001b[0mkey\u001b[0m\u001b[0;34m,\u001b[0m \u001b[0maxis\u001b[0m\u001b[0;34m=\u001b[0m\u001b[0maxis\u001b[0m\u001b[0;34m)\u001b[0m\u001b[0;34m\u001b[0m\u001b[0m\n\u001b[1;32m   1913\u001b[0m \u001b[0;34m\u001b[0m\u001b[0m\n",
      "\u001b[0;32m/anaconda2/lib/python2.7/site-packages/pandas/core/indexing.pyc\u001b[0m in \u001b[0;36m_validate_key\u001b[0;34m(self, key, axis)\u001b[0m\n\u001b[1;32m   1796\u001b[0m                 \u001b[0;32mraise\u001b[0m\u001b[0;34m\u001b[0m\u001b[0m\n\u001b[1;32m   1797\u001b[0m             \u001b[0;32mexcept\u001b[0m\u001b[0;34m:\u001b[0m\u001b[0;34m\u001b[0m\u001b[0m\n\u001b[0;32m-> 1798\u001b[0;31m                 \u001b[0merror\u001b[0m\u001b[0;34m(\u001b[0m\u001b[0;34m)\u001b[0m\u001b[0;34m\u001b[0m\u001b[0m\n\u001b[0m\u001b[1;32m   1799\u001b[0m \u001b[0;34m\u001b[0m\u001b[0m\n\u001b[1;32m   1800\u001b[0m     \u001b[0;32mdef\u001b[0m \u001b[0m_is_scalar_access\u001b[0m\u001b[0;34m(\u001b[0m\u001b[0mself\u001b[0m\u001b[0;34m,\u001b[0m \u001b[0mkey\u001b[0m\u001b[0;34m)\u001b[0m\u001b[0;34m:\u001b[0m\u001b[0;34m\u001b[0m\u001b[0m\n",
      "\u001b[0;32m/anaconda2/lib/python2.7/site-packages/pandas/core/indexing.pyc\u001b[0m in \u001b[0;36merror\u001b[0;34m()\u001b[0m\n\u001b[1;32m   1783\u001b[0m                 raise KeyError(u\"the label [{key}] is not in the [{axis}]\"\n\u001b[1;32m   1784\u001b[0m                                .format(key=key,\n\u001b[0;32m-> 1785\u001b[0;31m                                        axis=self.obj._get_axis_name(axis)))\n\u001b[0m\u001b[1;32m   1786\u001b[0m \u001b[0;34m\u001b[0m\u001b[0m\n\u001b[1;32m   1787\u001b[0m             \u001b[0;32mtry\u001b[0m\u001b[0;34m:\u001b[0m\u001b[0;34m\u001b[0m\u001b[0m\n",
      "\u001b[0;31mKeyError\u001b[0m: u'the label [>50K] is not in the [index]'"
     ]
    }
   ],
   "source": [
    "min_samples_split = 0.01 #default value\n",
    "min_samples_leaf = 0.1  # default value\n",
    "# results = dic()\n",
    "# gini tree\n",
    "\n",
    "g_tree = DecisionTreeClassifier(criterion = 'gini', \n",
    "                              min_samples_split = min_samples_split,\n",
    "                              min_samples_leaf = min_samples_leaf)\n",
    "\n",
    "g_tree.fit(X_train,Y_train)\n",
    "\n",
    "g_train_predict = g_tree.predict(X_train)\n",
    "g_test_predict = g_tree.predict(X_test)\n",
    "\n",
    "DTree_Gini = model_eval(Y_train,g_train_predict)\n",
    "DTree_Entropy = model_eval(Y_train,g_test_predict)\n",
    "\n",
    "\n",
    "\n",
    "\n",
    "\n",
    "ovl_dtree = round(pd.DataFrame([DTree_Entropy, DTree_Gini], index = ['DTree_Entropy','DTree_Gini']),4)\n",
    "\n",
    "display(ovl_dtree)\n",
    "\n",
    "# entropy tree\n",
    "\n",
    "# e_tree = DecisionTreeClassifier(criterion = 'entropy', \n",
    "#                               min_samples_split = min_samples_split,\n",
    "#                               min_samples_leaf = min_samples_leaf)\n",
    "\n",
    "# e_tree.fit(X_train,Y_train)\n",
    "# e_train_predict = e_tree.predict(X_train)\n",
    "# e_test_predict = e_tree.predict(X_test)"
   ]
  },
  {
   "cell_type": "markdown",
   "metadata": {},
   "source": [
    "## Random Forest"
   ]
  },
  {
   "cell_type": "code",
   "execution_count": 45,
   "metadata": {},
   "outputs": [
    {
     "name": "stdout",
     "output_type": "stream",
     "text": [
      "Max is at 1.00000: 0.86 \n"
     ]
    },
    {
     "data": {
      "image/png": "[encoded data removed]",
      "text/plain": [
       "<Figure size 432x288 with 1 Axes>"
      ]
     },
     "metadata": {
      "needs_background": "light"
     },
     "output_type": "display_data"
    }
   ],
   "source": [
    "n_features = np.linspace(1, 14, 14, endpoint=True)\n",
    "\n",
    "min_samples_split = 0.01 #value found in decision tree\n",
    "min_samples_leaf = 0.1  # value found in decision tree\n",
    "min_samples_leaf = 1\n",
    "split = 0.1\n",
    "acc = np.zeros(14)\n",
    "i = 0\n",
    "for features in n_features:\n",
    "        clf = RandomForestClassifier(n_estimators = 10,\n",
    "                                criterion = 'gini', \n",
    "                              min_samples_split = min_samples_split,\n",
    "                              min_samples_leaf = min_samples_leaf,\n",
    "                               max_features = None)\n",
    "        scores = cross_val_score(clf, X_train, Y_train, cv=5)\n",
    "#         print(\"Accuracy with a min_leafs %0.5f: %0.2f (+/- %0.2f)\" % (features ,scores.mean(), scores.std() * 2))\n",
    "        acc[i] = round(scores.mean(),2)\n",
    "        i += 1\n",
    "        sys.stdout.flush()\n",
    "        \n",
    "print(\"Max is at %0.5f: %0.2f \" % (n_features[index], acc[index]))\n",
    "plt.plot(n_features,acc)\n",
    "plt.xlabel(\"Number of Features\")\n",
    "plt.ylabel(\"Accuracy\")\n",
    "plt.title(\"5 Fold Cross Validation Accuracy Decision Tree Max Features\")\n",
    "plt.savefig(\"maxFeatures.png\")"
   ]
  },
  {
   "cell_type": "code",
   "execution_count": 15,
   "metadata": {},
   "outputs": [
    {
     "data": {
      "text/plain": [
       "RandomForestClassifier(bootstrap=True, class_weight=None, criterion='entropy',\n",
       "            max_depth=None, max_features=None, max_leaf_nodes=None,\n",
       "            min_impurity_decrease=0.0, min_impurity_split=None,\n",
       "            min_samples_leaf=1, min_samples_split=2,\n",
       "            min_weight_fraction_leaf=0.0, n_estimators=10, n_jobs=None,\n",
       "            oob_score=False, random_state=None, verbose=0,\n",
       "            warm_start=False)"
      ]
     },
     "execution_count": 15,
     "metadata": {},
     "output_type": "execute_result"
    }
   ],
   "source": [
    "min_samples_split = 0.01 #value found in decision tree\n",
    "min_samples_leaf = 0.1  # value found in decision tree\n",
    "n_estimators = 10 # default\n",
    "bootstrap = False\n",
    "# gini tree\n",
    "\n",
    "for n_estimators in range(10,100,10):\n",
    "    \n",
    "    g_tree = RandomForestClassifier(n_estimators = n_estimators,\n",
    "                                    criterion = 'gini', \n",
    "                                  min_samples_split = min_samples_split,\n",
    "                                  min_samples_leaf = min_samples_leaf,\n",
    "                                   max_features = None,\n",
    "                                   bootstrap = bootstrap)\n",
    "\n",
    "    g_tree.fit(X_train,Y_train)\n",
    "\n",
    "\n",
    "    predict_train_gini = g_tree.predict(X_train)\n",
    "    \n",
    "    predict_test_gini = g_tree.predict(X_test)\n",
    "\n",
    "    \n",
    "    \n",
    "\n",
    "    # entropy tree\n",
    "\n",
    "\n",
    "    e_tree = RandomForestClassifier(n_estimators = n_estimators,\n",
    "                                    criterion = 'entropy', \n",
    "                                  min_samples_split = min_samples_split,\n",
    "                                  min_samples_leaf = min_samples_leaf,\n",
    "                                   max_features = None,\n",
    "                                   bootstrap = bootstrap)\n",
    "\n",
    "\n",
    "\n",
    "    e_tree.fit(X_train,Y_train)"
   ]
  },
  {
   "cell_type": "code",
   "execution_count": null,
   "metadata": {},
   "outputs": [],
   "source": []
  }
 ],
 "metadata": {
  "kernelspec": {
   "display_name": "Python 2",
   "language": "python",
   "name": "python2"
  },
  "language_info": {
   "codemirror_mode": {
    "name": "ipython",
    "version": 2
   },
   "file_extension": ".py",
   "mimetype": "text/x-python",
   "name": "python",
   "nbconvert_exporter": "python",
   "pygments_lexer": "ipython2",
   "version": "2.7.15"
  }
 },
 "nbformat": 4,
 "nbformat_minor": 2
}
